{
  "nbformat": 4,
  "nbformat_minor": 0,
  "metadata": {
    "colab": {
      "provenance": []
    },
    "kernelspec": {
      "name": "python3",
      "display_name": "Python 3"
    },
    "language_info": {
      "name": "python"
    }
  },
  "cells": [
    {
      "cell_type": "code",
      "execution_count": null,
      "metadata": {
        "id": "RIv6KcVs5lt0"
      },
      "outputs": [],
      "source": [
        "from fastapi import FastAPI, Request, status\n",
        "from fastapi.encoders import jsonable_encoder\n",
        "from fastapi.exceptions import RequestValidationError\n",
        "from fastapi.responses import JSONResponse\n",
        "\n",
        "import uvicorn\n",
        "from starlette.staticfiles import StaticFiles\n",
        "\n",
        "from task import router as task_router\n",
        "from account import router as account_router\n",
        "from address import router as address_router\n",
        "from theme import router as theme_router\n",
        "from collections import defaultdict\n",
        "\n",
        "app = FastAPI(title=\"Address Book App\",\n",
        "    docs_url=\"/address-book-docs\",\n",
        "    version=\"0.0.1\")\n",
        "\n",
        "@app.exception_handler(RequestValidationError)\n",
        "async def validation_exception_handler(request: Request, exc: RequestValidationError):\n",
        "\n",
        "    reformatted_message = defaultdict(list)\n",
        "    for pydantic_error in exc.errors():\n",
        "        loc, msg = pydantic_error[\"loc\"], pydantic_error[\"msg\"]\n",
        "        filtered_loc = loc[1:] if loc[0] in (\"body\", \"query\", \"path\") else loc\n",
        "        field_string = \".\".join(filtered_loc)  # nested fields with dot-notation\n",
        "        reformatted_message[field_string].append(msg)\n",
        "\n",
        "    return JSONResponse(\n",
        "        status_code=status.HTTP_422_UNPROCESSABLE_ENTITY,\n",
        "        content=jsonable_encoder({\"detail\": exc.errors(), \"Errors\": reformatted_message}),\n",
        "    )\n",
        "\n",
        "@app.get(\"/\")\n",
        "async def root():\n",
        "    return {\"message\": \"Hello Address Book API\"}\n",
        "\n",
        "\n",
        "app.include_router(task_router.router)\n",
        "app.include_router(account_router.router)\n",
        "app.include_router(theme_router.router)\n",
        "app.include_router(address_router.router)\n",
        "\n",
        "app.mount(\"/static\", StaticFiles(directory=\"static\"), name=\"static\")\n",
        "app.mount(\"/media\", StaticFiles(directory=\"media\"), name=\"media\")\n",
        "\n",
        "if __name__ == \"__main__\":\n",
        "    uvicorn.run(app, host=\"0.0.0.0\", port=8000)"
      ]
    }
  ]
}